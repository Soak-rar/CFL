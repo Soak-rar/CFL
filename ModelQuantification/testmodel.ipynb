{
 "cells": [
  {
   "cell_type": "code",
   "execution_count": 2,
   "metadata": {
    "collapsed": true,
    "ExecuteTime": {
     "end_time": "2023-09-23T02:05:42.636000700Z",
     "start_time": "2023-09-23T02:05:42.623998900Z"
    }
   },
   "outputs": [],
   "source": [
    "import numpy as np\n",
    "import torch\n",
    "import Model\n",
    "from  Model import *\n",
    "from torchvision import datasets, transforms\n",
    "import Args\n",
    "from matplotlib import pyplot as plt\n",
    "from sklearn.decomposition import PCA\n",
    "import pandas\n",
    "import threading\n",
    "import multiprocessing\n",
    "import data.ff\n",
    "from HCFedAvg import FileProcess\n",
    "from HCFedAvg.DataGenerater import *\n",
    "from torchsummary import summary\n",
    "import math\n",
    "import ast\n"
   ]
  },
  {
   "cell_type": "code",
   "execution_count": 3,
   "outputs": [],
   "source": [
    "FileProcess.add_new_column_with_file('extra_param', 'QuantResult')"
   ],
   "metadata": {
    "collapsed": false,
    "ExecuteTime": {
     "end_time": "2023-09-23T02:06:08.594871400Z",
     "start_time": "2023-09-23T02:06:08.566865300Z"
    }
   }
  },
  {
   "cell_type": "code",
   "execution_count": 2,
   "outputs": [
    {
     "name": "stdout",
     "output_type": "stream",
     "text": [
      "None\n"
     ]
    }
   ],
   "source": [],
   "metadata": {
    "collapsed": false
   }
  },
  {
   "cell_type": "code",
   "execution_count": 4,
   "outputs": [
    {
     "ename": "AttributeError",
     "evalue": "'SpareBinaryQuanter' object has no attribute 'layers_scale_zero_point'",
     "output_type": "error",
     "traceback": [
      "\u001B[1;31m---------------------------------------------------------------------------\u001B[0m",
      "\u001B[1;31mAttributeError\u001B[0m                            Traceback (most recent call last)",
      "Cell \u001B[1;32mIn[4], line 5\u001B[0m\n\u001B[0;32m      1\u001B[0m init_model \u001B[38;5;241m=\u001B[39m Model\u001B[38;5;241m.\u001B[39minit_model(\u001B[38;5;124m'\u001B[39m\u001B[38;5;124mmnist\u001B[39m\u001B[38;5;124m'\u001B[39m)\n\u001B[0;32m      3\u001B[0m quanter \u001B[38;5;241m=\u001B[39m SpareBinaryQuanter()\n\u001B[1;32m----> 5\u001B[0m \u001B[43minit_model\u001B[49m\u001B[38;5;241;43m.\u001B[39;49m\u001B[43mset_quanter\u001B[49m\u001B[43m(\u001B[49m\u001B[43mquanter\u001B[49m\u001B[43m)\u001B[49m\n\u001B[0;32m      7\u001B[0m quant_dict \u001B[38;5;241m=\u001B[39m init_model\u001B[38;5;241m.\u001B[39mquant()\n\u001B[0;32m      8\u001B[0m \u001B[38;5;28;01mfor\u001B[39;00m name, param \u001B[38;5;129;01min\u001B[39;00m quant_dict\u001B[38;5;241m.\u001B[39mitems():\n",
      "File \u001B[1;32mF:\\MMD_100Clients\\Model.py:170\u001B[0m, in \u001B[0;36mBaseQuantModel.set_quanter\u001B[1;34m(self, Quanter)\u001B[0m\n\u001B[0;32m    168\u001B[0m \u001B[38;5;28;01mdef\u001B[39;00m \u001B[38;5;21mset_quanter\u001B[39m(\u001B[38;5;28mself\u001B[39m, Quanter):\n\u001B[0;32m    169\u001B[0m     \u001B[38;5;28mself\u001B[39m\u001B[38;5;241m.\u001B[39mQuanter \u001B[38;5;241m=\u001B[39m Quanter\n\u001B[1;32m--> 170\u001B[0m     \u001B[38;5;28;43mself\u001B[39;49m\u001B[38;5;241;43m.\u001B[39;49m\u001B[43mQuanter\u001B[49m\u001B[38;5;241;43m.\u001B[39;49m\u001B[43minit_layers\u001B[49m\u001B[43m(\u001B[49m\u001B[38;5;28;43mself\u001B[39;49m\u001B[43m)\u001B[49m\n",
      "File \u001B[1;32mF:\\MMD_100Clients\\Model.py:29\u001B[0m, in \u001B[0;36mSpareBinaryQuanter.init_layers\u001B[1;34m(self, model)\u001B[0m\n\u001B[0;32m     27\u001B[0m \u001B[38;5;28;01mdef\u001B[39;00m \u001B[38;5;21minit_layers\u001B[39m(\u001B[38;5;28mself\u001B[39m, model:nn\u001B[38;5;241m.\u001B[39mModule):\n\u001B[0;32m     28\u001B[0m     \u001B[38;5;28;01mfor\u001B[39;00m name, module \u001B[38;5;129;01min\u001B[39;00m model\u001B[38;5;241m.\u001B[39mnamed_parameters():\n\u001B[1;32m---> 29\u001B[0m         \u001B[38;5;28;43mself\u001B[39;49m\u001B[38;5;241;43m.\u001B[39;49m\u001B[43mlayers_scale_zero_point\u001B[49m[name] \u001B[38;5;241m=\u001B[39m [\u001B[38;5;241m0\u001B[39m, \u001B[38;5;28;01mNone\u001B[39;00m]\n",
      "\u001B[1;31mAttributeError\u001B[0m: 'SpareBinaryQuanter' object has no attribute 'layers_scale_zero_point'"
     ]
    }
   ],
   "source": [
    "\n",
    "init_model = Model.init_model('mnist')\n",
    "\n",
    "quanter = SpareBinaryQuanter(1)\n",
    "\n",
    "init_model.set_quanter(quanter)\n",
    "\n",
    "quant_dict = init_model.quant()\n",
    "for name, param in quant_dict.items():\n",
    "    print(name)\n",
    "    print(param)\n",
    "# print(copy_dict)\n",
    "# for name, param in init_model.named_parameters():\n",
    "#     print(param.dtype)"
   ],
   "metadata": {
    "collapsed": false,
    "ExecuteTime": {
     "end_time": "2023-09-21T01:48:01.739044500Z",
     "start_time": "2023-09-21T01:48:01.706037200Z"
    }
   }
  }
 ],
 "metadata": {
  "kernelspec": {
   "display_name": "Python 3",
   "language": "python",
   "name": "python3"
  },
  "language_info": {
   "codemirror_mode": {
    "name": "ipython",
    "version": 2
   },
   "file_extension": ".py",
   "mimetype": "text/x-python",
   "name": "python",
   "nbconvert_exporter": "python",
   "pygments_lexer": "ipython2",
   "version": "2.7.6"
  }
 },
 "nbformat": 4,
 "nbformat_minor": 0
}
