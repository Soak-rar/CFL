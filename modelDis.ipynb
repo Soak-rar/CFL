{
 "cells": [
  {
   "cell_type": "code",
   "execution_count": 3,
   "metadata": {
    "collapsed": true,
    "ExecuteTime": {
     "end_time": "2023-11-24T07:17:24.900917300Z",
     "start_time": "2023-11-24T07:17:22.181305400Z"
    }
   },
   "outputs": [],
   "source": [
    "import numpy as np\n",
    "import torch\n",
    "import Model\n",
    "from torchvision import datasets, transforms\n",
    "import Args\n",
    "from matplotlib import pyplot as plt\n",
    "from sklearn.decomposition import PCA\n",
    "import pandas\n",
    "import threading\n",
    "import multiprocessing\n",
    "import data.ff\n",
    "from HCFedAvg.DataGenerater import *\n",
    "from torchsummary import summary\n",
    "from collections import OrderedDict\n",
    "\n"
   ]
  },
  {
   "cell_type": "code",
   "execution_count": 6,
   "outputs": [
    {
     "name": "stdout",
     "output_type": "stream",
     "text": [
      "2\n"
     ]
    }
   ],
   "source": [
    "Dict_ = OrderedDict()\n",
    "Dict_[1] = \"a\"\n",
    "Dict_[2] = \"a\"\n",
    "print(len(Dict_.keys()))"
   ],
   "metadata": {
    "collapsed": false,
    "ExecuteTime": {
     "end_time": "2023-11-24T07:17:34.657619Z",
     "start_time": "2023-11-24T07:17:34.641615300Z"
    }
   }
  },
  {
   "cell_type": "code",
   "execution_count": 28,
   "outputs": [
    {
     "name": "stdout",
     "output_type": "stream",
     "text": [
      "100\n",
      "dict_keys([100])\n"
     ]
    },
    {
     "ename": "AttributeError",
     "evalue": "'int' object has no attribute 'keys'",
     "output_type": "error",
     "traceback": [
      "\u001B[1;31m---------------------------------------------------------------------------\u001B[0m",
      "\u001B[1;31mAttributeError\u001B[0m                            Traceback (most recent call last)",
      "Cell \u001B[1;32mIn[28], line 21\u001B[0m\n\u001B[0;32m     19\u001B[0m \u001B[38;5;28mprint\u001B[39m(iter_\u001B[38;5;241m.\u001B[39m\u001B[38;5;21m__next__\u001B[39m())\n\u001B[0;32m     20\u001B[0m \u001B[38;5;28mprint\u001B[39m(global_si_ma\u001B[38;5;241m.\u001B[39mkeys())\n\u001B[1;32m---> 21\u001B[0m labels_list \u001B[38;5;241m=\u001B[39m [key \u001B[38;5;28;01mfor\u001B[39;00m list_ \u001B[38;5;129;01min\u001B[39;00m global_si_ma\u001B[38;5;241m.\u001B[39mkeys() \u001B[38;5;28;01mfor\u001B[39;00m key \u001B[38;5;129;01min\u001B[39;00m list_\u001B[38;5;241m.\u001B[39mkeys()]\n\u001B[0;32m     22\u001B[0m \u001B[38;5;28mprint\u001B[39m(labels_list)\n",
      "Cell \u001B[1;32mIn[28], line 21\u001B[0m, in \u001B[0;36m<listcomp>\u001B[1;34m(.0)\u001B[0m\n\u001B[0;32m     19\u001B[0m \u001B[38;5;28mprint\u001B[39m(iter_\u001B[38;5;241m.\u001B[39m\u001B[38;5;21m__next__\u001B[39m())\n\u001B[0;32m     20\u001B[0m \u001B[38;5;28mprint\u001B[39m(global_si_ma\u001B[38;5;241m.\u001B[39mkeys())\n\u001B[1;32m---> 21\u001B[0m labels_list \u001B[38;5;241m=\u001B[39m [key \u001B[38;5;28;01mfor\u001B[39;00m list_ \u001B[38;5;129;01min\u001B[39;00m global_si_ma\u001B[38;5;241m.\u001B[39mkeys() \u001B[38;5;28;01mfor\u001B[39;00m key \u001B[38;5;129;01min\u001B[39;00m \u001B[43mlist_\u001B[49m\u001B[38;5;241;43m.\u001B[39;49m\u001B[43mkeys\u001B[49m()]\n\u001B[0;32m     22\u001B[0m \u001B[38;5;28mprint\u001B[39m(labels_list)\n",
      "\u001B[1;31mAttributeError\u001B[0m: 'int' object has no attribute 'keys'"
     ]
    }
   ],
   "source": [
    "# from sklearn.cluster import AgglomerativeClustering\n",
    "# import numpy as np\n",
    "#\n",
    "# # 示例相似度矩阵，你需要替换成你的相似度矩阵\n",
    "# similarity_matrix = np.array([[1.0, 0.2, 0.5],\n",
    "#                               [0.2, 1.0, 0.7],\n",
    "#                               [0.5, 0.7, 1.0]])\n",
    "#\n",
    "# # 创建AgglomerativeClustering模型，不需要指定聚类数量\n",
    "# agg_clustering = AgglomerativeClustering(linkage='ward', affinity='precomputed')\n",
    "# agg_clustering.fit(similarity_matrix)\n",
    "#\n",
    "# cluster_labels = agg_clustering.labels_\n",
    "#\n",
    "# print(\"聚类标签:\", cluster_labels)\n",
    "\n",
    "global_si_ma = {100: {20: 12}}\n",
    "\n",
    "\n",
    "print(global_si_ma.keys())\n",
    "labels_list = [key for list_ in global_si_ma.keys() for key in list_.keys()]\n",
    "print(labels_list)"
   ],
   "metadata": {
    "collapsed": false,
    "ExecuteTime": {
     "end_time": "2023-09-12T04:21:24.750332400Z",
     "start_time": "2023-09-12T04:21:24.729261700Z"
    }
   }
  },
  {
   "cell_type": "code",
   "execution_count": 23,
   "outputs": [
    {
     "name": "stdout",
     "output_type": "stream",
     "text": [
      "None\n"
     ]
    }
   ],
   "source": [
    "\n"
   ],
   "metadata": {
    "collapsed": false,
    "ExecuteTime": {
     "end_time": "2023-06-24T12:30:00.334682600Z",
     "start_time": "2023-06-24T12:30:00.319044600Z"
    }
   }
  },
  {
   "cell_type": "code",
   "execution_count": 1,
   "outputs": [
    {
     "ename": "NameError",
     "evalue": "name 'torch' is not defined",
     "output_type": "error",
     "traceback": [
      "\u001B[1;31m---------------------------------------------------------------------------\u001B[0m",
      "\u001B[1;31mNameError\u001B[0m                                 Traceback (most recent call last)",
      "Cell \u001B[1;32mIn[1], line 3\u001B[0m\n\u001B[0;32m      1\u001B[0m \u001B[38;5;28;01mimport\u001B[39;00m \u001B[38;5;21;01mmath\u001B[39;00m\n\u001B[1;32m----> 3\u001B[0m init_model:torch\u001B[38;5;241m.\u001B[39mnn\u001B[38;5;241m.\u001B[39mModule \u001B[38;5;241m=\u001B[39m \u001B[43mtorch\u001B[49m\u001B[38;5;241m.\u001B[39mload(\u001B[38;5;124m'\u001B[39m\u001B[38;5;124mHCFedAvg/test_model/init_model_dict.pth\u001B[39m\u001B[38;5;124m'\u001B[39m)\n\u001B[0;32m      4\u001B[0m final_model:torch\u001B[38;5;241m.\u001B[39mnn\u001B[38;5;241m.\u001B[39mModule \u001B[38;5;241m=\u001B[39m torch\u001B[38;5;241m.\u001B[39mload(\u001B[38;5;124m'\u001B[39m\u001B[38;5;124mHCFedAvg/test_model/final_model.pth\u001B[39m\u001B[38;5;124m'\u001B[39m)\n\u001B[0;32m      5\u001B[0m models_ \u001B[38;5;241m=\u001B[39m torch\u001B[38;5;241m.\u001B[39mload(\u001B[38;5;124m'\u001B[39m\u001B[38;5;124mHCFedAvg/test_model/model_1.pt\u001B[39m\u001B[38;5;124m'\u001B[39m)\n",
      "\u001B[1;31mNameError\u001B[0m: name 'torch' is not defined"
     ]
    }
   ],
   "source": [
    "import math\n",
    "\n",
    "init_model:torch.nn.Module = torch.load('HCFedAvg/test_model/init_model_dict.pth')\n",
    "final_model:torch.nn.Module = torch.load('HCFedAvg/test_model/final_model.pth')\n",
    "models_ = torch.load('HCFedAvg/test_model/model_1.pt')\n",
    "args = Args.Arguments()\n",
    "def L2_Distance(tensor1, tensor2, Use_cos = 0):\n",
    "\n",
    "    if Use_cos == 0:\n",
    "        UpSum = 0\n",
    "        for i in range(tensor1.shape[0]):\n",
    "            UpSum += tensor1[i].item() * tensor2[i].item()\n",
    "        DownSum1 = 0\n",
    "        DownSum2 = 0\n",
    "        for i in range(tensor1.shape[0]):\n",
    "            DownSum1 += tensor1[i].item() * tensor1[i].item()\n",
    "        DownSum1 = DownSum1 ** 0.5\n",
    "        for i in range(tensor2.shape[0]):\n",
    "            DownSum2 += tensor2[i].item() * tensor2[i].item()\n",
    "        DownSum2 = DownSum2 ** 0.5\n",
    "\n",
    "        return abs(1 - UpSum / (DownSum1 * DownSum2))\n",
    "    elif Use_cos == 1:\n",
    "        Value = 0\n",
    "        for i in range(tensor1.shape[0]):\n",
    "            Value += math.pow(tensor1[i].item() - tensor2[i].item(), 2)\n",
    "        return Value\n",
    "\n",
    "    else:\n",
    "        relative_tensor = (tensor1 - tensor2)/tensor1\n",
    "        Value = 0\n",
    "        for i in range(relative_tensor.shape[0]):\n",
    "            Value += math.pow(relative_tensor[i].item(), 2)\n",
    "        return Value\n",
    "\n",
    "\n",
    "\n",
    "def avg_deep_param(model_dict, init_model_dict, args, k):\n",
    "    AvgParam = torch.zeros(model_dict.shape[0])\n",
    "    for i in range(model_dict.shape[1]):\n",
    "        for j in range(model_dict.shape[0]):\n",
    "            AvgParam[j] = AvgParam[j] + (model_dict[j][i] - init_model_dict[args.deep_model_layer_name][j][i])\n",
    "    return AvgParam / model_dict.shape[1]\n",
    "    # return model_dict[args.deep_model_layer_name][k][:] - init_model_dict[args.deep_model_layer_name][k][:]\n",
    "\n",
    "\n",
    "for j in range(1):\n",
    "    final_deep = avg_deep_param(final_model, init_model,args, j)\n",
    "    dis_list = []\n",
    "    for i in range(200):\n",
    "        deep_ = avg_deep_param(models_[i], init_model,args, j)\n",
    "        dis_value = L2_Distance(final_deep, deep_)\n",
    "        dis_list.append(dis_value)\n",
    "    fig = plt.figure(figsize=(24, 6))\n",
    "    ax1 = fig.add_subplot(1, j+1, 1)\n",
    "\n",
    "    ax1.plot(range(len(dis_list)), dis_list, label=\"FedAvg\")\n",
    "\n"
   ],
   "metadata": {
    "collapsed": false,
    "ExecuteTime": {
     "end_time": "2023-10-05T08:53:38.502139900Z",
     "start_time": "2023-10-05T08:53:37.185231700Z"
    }
   }
  },
  {
   "cell_type": "code",
   "execution_count": 5,
   "outputs": [
    {
     "data": {
      "text/plain": "tensor(0)"
     },
     "execution_count": 5,
     "metadata": {},
     "output_type": "execute_result"
    }
   ],
   "source": [
    "a = torch.tensor(0)\n",
    "a = torch.tensor(0)\n",
    "a"
   ],
   "metadata": {
    "collapsed": false,
    "ExecuteTime": {
     "end_time": "2023-06-17T12:35:53.265359600Z",
     "start_time": "2023-06-17T12:35:53.247811700Z"
    }
   }
  },
  {
   "cell_type": "code",
   "execution_count": 8,
   "outputs": [
    {
     "name": "stdout",
     "output_type": "stream",
     "text": [
      "0.9714\n",
      "0.9878207417369709\n",
      "----------------------------------------------------------------\n",
      "        Layer (type)               Output Shape         Param #\n",
      "================================================================\n",
      "            Conv2d-1           [-1, 20, 24, 24]             520\n",
      "            Conv2d-2             [-1, 50, 8, 8]          25,050\n",
      "            Linear-3                  [-1, 500]         400,500\n",
      "           Dropout-4                  [-1, 500]               0\n",
      "            Linear-5                   [-1, 84]          42,084\n",
      "           Dropout-6                   [-1, 84]               0\n",
      "            Linear-7                   [-1, 20]           1,700\n",
      "           Dropout-8                   [-1, 20]               0\n",
      "            Linear-9                   [-1, 10]             210\n",
      "================================================================\n",
      "Total params: 470,064\n",
      "Trainable params: 470,064\n",
      "Non-trainable params: 0\n",
      "----------------------------------------------------------------\n",
      "Input size (MB): 0.00\n",
      "Forward/backward pass size (MB): 0.12\n",
      "Params size (MB): 1.79\n",
      "Estimated Total Size (MB): 1.92\n",
      "----------------------------------------------------------------\n"
     ]
    }
   ],
   "source": [
    "fedAvg_Acc = torch.load('HCFedAvg/0.4_0.4_mnist_cluster_self_data10_2NewData_round_100_WithOutTimeAvg_HCCFL_FedAvg_Loss_Acc_0_FedAvg_Acc.pt')\n",
    "HCCFL_Acc = torch.load('HCFedAvg/0.4_0.4_mnist_cluster_self_data10_2NewData_round_100_WithOutTimeAvg_HCCFL_FedAvg_Loss_Acc_0_HCCFL_Acc.pt')\n",
    "print(max(fedAvg_Acc))\n",
    "print(max(HCCFL_Acc))\n",
    "from torch.utils.data import TensorDataset\n",
    "from torchvision.utils import save_image\n",
    "args = Args.Arguments()\n",
    "DatasetGen(args)\n",
    "mode = Model.init_model('mnist')\n",
    "summary(mode,input_size=(1,28,28))\n",
    "# train_loader = DataLoader(train_dataset, batch_size=64, shuffle=True, drop_last=True)\n",
    "# for data, label in train_loader:\n",
    "#     print(data.shape)\n"
   ],
   "metadata": {
    "collapsed": false,
    "ExecuteTime": {
     "end_time": "2023-06-11T12:45:48.545197800Z",
     "start_time": "2023-06-11T12:45:43.398997600Z"
    }
   }
  },
  {
   "cell_type": "code",
   "execution_count": 10,
   "outputs": [
    {
     "data": {
      "text/plain": "20"
     },
     "execution_count": 10,
     "metadata": {},
     "output_type": "execute_result"
    }
   ],
   "source": [
    "import Model\n",
    "\n",
    "model1 = Model.init_model('mnist')\n",
    "len(model1.fc4.weight[0])"
   ],
   "metadata": {
    "collapsed": false,
    "ExecuteTime": {
     "end_time": "2023-05-25T12:15:15.396039Z",
     "start_time": "2023-05-25T12:15:15.380408Z"
    }
   }
  },
  {
   "cell_type": "code",
   "execution_count": 13,
   "outputs": [
    {
     "name": "stdout",
     "output_type": "stream",
     "text": [
      "1\n",
      "2\n",
      "3\n",
      "4\n"
     ]
    }
   ],
   "source": [
    "for i in range(1, 5):\n",
    "    print(i)"
   ],
   "metadata": {
    "collapsed": false,
    "ExecuteTime": {
     "end_time": "2023-05-25T13:12:14.364678200Z",
     "start_time": "2023-05-25T13:12:14.349039900Z"
    }
   }
  },
  {
   "cell_type": "code",
   "execution_count": null,
   "outputs": [],
   "source": [
    "from torch.utils.data import DataLoader\n",
    "from torchvision import datasets, transforms\n",
    "\n",
    "train_dataset = datasets.MNIST(root='data', train=True, transform=transforms.Compose([\n",
    "            transforms.ToTensor(),\n",
    "            transforms.Normalize((0.1307,), (0.3081,))]))\n"
   ],
   "metadata": {
    "collapsed": false
   }
  },
  {
   "cell_type": "code",
   "execution_count": 10,
   "outputs": [
    {
     "name": "stdout",
     "output_type": "stream",
     "text": [
      "[0.00762958332698205, 0.0074733093958950945, 0.08613762119662634, 0.007877143544110036, 0.007845166654261167, 0.007875629390036953, 0.009684006805919755, 0.007880705998888756, 0.007682926863103191, 0.007866505068415759, 0.007869765326197658, 0.007636403581663664, 0.007883628872696394, 0.007883054593261456, 0.00788229339918589, 0.007879171482255663, 0.007882268920787824, 0.007885433690536393, 0.007852880180128197, 0.007882437393605153, 0.008001766790038625, 0.007882268756868129, 0.0078823158352659, 0.007882629776385656, 0.007881784503957266, 0.007881859924934438, 0.007882272771686407, 0.00788216761415598, 0.00836890026030093, 0.007878263444534517, 0.007882275258683123, 0.0077768148010795585, 0.007882252389401122, 0.007883090392497133, 0.007882275812228378, 0.00788285225005749, 0.00788227569677405, 0.007884071441357261, 0.012886741904281511, 0.00788227577776396, 0.007882275852418137, 0.007882293048572896, 0.007882254616280318, 0.00788221701711699, 0.007882308494058781, 0.007882275792345734, 0.007882275852368602, 0.007882274534487267, 0.00788226795506429, 0.0077404851599854356, 0.007882275850874566, 0.007881880803925339, 0.007882275331214347, 0.007882275395543786, 0.007882275852418616, 0.007881571069234533, 0.007882275852465245, 0.007885070710668338, 0.007882217564062259, 0.00788227581145691, 0.007882260680703626, 0.007882065272205155, 0.007860653812344368, 0.007855814114457713, 0.007879849119231416, 0.00788221678951296, 0.007890867309111383, 0.007882275425929935, 0.007882537304954387, 0.007881945753155914, 0.007874002432847074, 0.007882275852524526, 0.007882275852240432, 0.00788227575030013, 0.007882275852340566, 0.007882203471155902, 0.007882274534801309, 0.007882275673997977, 0.007882393995142473, 0.007882207516568216, 0.00788227545936624, 0.007882275852537545, 0.007882275852537764, 0.007882274587860574, 0.007880585665979496, 0.007882257618962437, 0.007880661780419882, 0.00788227584537764, 0.00788227585026271, 0.007882166246491448, 0.007882275852229375, 0.007879754193611671, 0.007883114822191378, 0.007882275841283252, 0.007882275852522422, 0.007882275839721724, 0.00788244724846721, 0.007750292586329688, 0.007882275820241426, 0.007882275845470712]\n",
      "    cos    \n",
      "[0.6470538843183151, 0.6542707906499365, 1.0549903607432516, 0.5170516343118476, 0.8940451833353413, 0.739561328919365, 1.2016960175680966, 0.9630395762290336, 0.5992112399702907, 0.6931589096148139, 0.7527447219083456, 0.7170663351245345, 1.2462266334323302, 1.1176468012196157, 1.0756357302729582, 0.7068884899210139, 0.4330825801426772, 1.0425207090345359, 0.5470523291826683, 1.3032349715552567, 1.3592436135562613, 0.4493730738944133, 1.2534477715096193, 1.2891081210943467, 0.7373443778632183, 0.6522909548474988, 0.6917494774995596, 0.6548064396195108, 1.1295694884585692, 0.6684127411006233, 0.9405989217855204, 0.6694324214940788, 0.5779118701529745, 1.1258422941579067, 0.9959664080079156, 1.1940106017316796, 0.9844148436560352, 1.2858367685204792, 1.1172857399584855, 0.9925173754596586, 0.9999880122356668, 1.1818270614983049, 0.7366601406630262, 0.6087010116180172, 1.1357904946722335, 0.9939752232436105, 0.9999830701966276, 0.8681389357819149, 0.6599665170318787, 0.4427445563787773, 0.9998335414964169, 0.8456589304861826, 0.9478416335435612, 0.9542856869008289, 0.9999880772941084, 0.41896855182720094, 0.999992744456925, 1.1691544933212903, 0.8331378090440626, 0.9958903412520393, 0.5936038783647274, 0.5378044204215451, 0.5267156642500076, 0.6288880460270825, 0.7469689382779959, 0.7456700149743121, 1.157730341687307, 0.957321973289798, 1.1364896381172138, 0.8881717757496774, 0.6319837593995499, 0.9999986759090264, 0.9999702584715884, 0.9897708464840035, 0.9999802746279801, 0.7253393499738321, 0.8681683519575925, 0.9821356579959662, 1.214904642969443, 0.8356265575574767, 0.9606658966171482, 0.9999999780354284, 0.9999999999996179, 0.8734666022750905, 0.712054661755219, 0.43187112757736057, 0.9336037556804324, 0.9992824024298166, 0.9997724240803004, 0.6646517371932791, 0.9999691466997782, 0.7322076261140187, 1.2319459077075354, 0.9988734584430653, 0.9999984651317353, 0.9987180275562836, 1.1834090103099484, 0.6178959243658138, 0.9967672941726617, 0.9992930415795631]\n"
     ]
    }
   ],
   "source": [
    "import Data\n",
    "from KMeansPP import get_cos_dis_single_layer\n",
    "from ClusterMain import pca_dim_deduction\n",
    "#\n",
    "list1 = torch.load('DeepModelSimality/param_grad_1_.pt')\n",
    "list2 = torch.load('DeepModelSimality/param_grad_2_.pt')\n",
    "#\n",
    "# list1 = torch.load('DeepModelSimality/param1.pt')\n",
    "# list2 = torch.load('DeepModelSimality/param2.pt')\n",
    "new_liat1 = [np.array(l.tolist()[0]) for l in list1]\n",
    "new_liat2 = [np.array(l.tolist()[0]) for l in list2]\n",
    "\n",
    "#\n",
    "low_dim_list1 = pca_dim_deduction(np.array(new_liat1), 3)\n",
    "low_dim_list2 = pca_dim_deduction(np.array(new_liat2), 3)\n",
    "# torch.tensor(new_liat1[99])\n",
    "#\n",
    "# for i, value in enumerate(list1):\n",
    "#     dis = torch.pairwise_distance(list1[i][0].cpu(), list1[0][0].cpu(), p=2)\n",
    "#     print(dis)\n",
    "\n",
    "s_list = []\n",
    "cos_dis = []\n",
    "for i in range(len(new_liat1)):\n",
    "    s_list.append(torch.pairwise_distance(torch.tensor(new_liat1[i]) , torch.tensor(new_liat2[0]), p = 2).tolist())\n",
    "    cos_dis.append(get_cos_dis_single_layer(torch.tensor(new_liat1[i]) , torch.tensor(new_liat2[0])).tolist())\n",
    "print(s_list)\n",
    "\n",
    "print(\"    cos    \")\n",
    "print(cos_dis)"
   ],
   "metadata": {
    "collapsed": false,
    "ExecuteTime": {
     "end_time": "2023-05-22T02:49:59.026168800Z",
     "start_time": "2023-05-22T02:49:58.950733800Z"
    }
   }
  },
  {
   "cell_type": "code",
   "execution_count": 20,
   "outputs": [
    {
     "data": {
      "text/plain": "{0: [tensor([0., 0., 0., 0., 0.])]}"
     },
     "execution_count": 20,
     "metadata": {},
     "output_type": "execute_result"
    }
   ],
   "source": [
    "\n",
    "new_dict = torch.load(\n",
    "               \"DeepModelSimality\" + '/' + 'new.pt')\n",
    "new_dict"
   ],
   "metadata": {
    "collapsed": false,
    "ExecuteTime": {
     "end_time": "2023-05-22T03:35:34.248495900Z",
     "start_time": "2023-05-22T03:35:34.225075300Z"
    }
   }
  }
 ],
 "metadata": {
  "kernelspec": {
   "display_name": "Python 3",
   "language": "python",
   "name": "python3"
  },
  "language_info": {
   "codemirror_mode": {
    "name": "ipython",
    "version": 2
   },
   "file_extension": ".py",
   "mimetype": "text/x-python",
   "name": "python",
   "nbconvert_exporter": "python",
   "pygments_lexer": "ipython2",
   "version": "2.7.6"
  }
 },
 "nbformat": 4,
 "nbformat_minor": 0
}
