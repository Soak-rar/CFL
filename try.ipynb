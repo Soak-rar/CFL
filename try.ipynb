{
 "cells": [
  {
   "cell_type": "code",
   "execution_count": 2,
   "metadata": {
    "collapsed": true,
    "pycharm": {
     "name": "#%%\n"
    },
    "ExecuteTime": {
     "end_time": "2023-08-18T08:08:04.663947600Z",
     "start_time": "2023-08-18T08:08:02.731970800Z"
    }
   },
   "outputs": [],
   "source": [
    "import numpy as np\n",
    "import torch\n",
    "import Model\n",
    "from torchsummary import summary"
   ]
  },
  {
   "cell_type": "code",
   "execution_count": 8,
   "outputs": [
    {
     "name": "stdout",
     "output_type": "stream",
     "text": [
      "----------------------------------------------------------------\n",
      "        Layer (type)               Output Shape         Param #\n",
      "================================================================\n",
      "            Conv2d-1           [-1, 20, 24, 24]             520\n",
      "            Conv2d-2             [-1, 50, 8, 8]          25,050\n",
      "            Linear-3                  [-1, 500]         400,500\n",
      "           Dropout-4                  [-1, 500]               0\n",
      "            Linear-5                   [-1, 84]          42,084\n",
      "           Dropout-6                   [-1, 84]               0\n",
      "            Linear-7                   [-1, 20]           1,700\n",
      "           Dropout-8                   [-1, 20]               0\n",
      "            Linear-9                   [-1, 10]             210\n",
      "================================================================\n",
      "Total params: 470,064\n",
      "Trainable params: 470,064\n",
      "Non-trainable params: 0\n",
      "----------------------------------------------------------------\n",
      "Input size (MB): 0.00\n",
      "Forward/backward pass size (MB): 0.12\n",
      "Params size (MB): 1.79\n",
      "Estimated Total Size (MB): 1.92\n",
      "----------------------------------------------------------------\n"
     ]
    }
   ],
   "source": [
    "model = Model.init_model(\"mnist\")\n",
    "# 计算模型的参数数量\n",
    "summary(model, (1, 28, 28), device='cpu')\n"
   ],
   "metadata": {
    "collapsed": false,
    "pycharm": {
     "name": "#%%\n"
    },
    "ExecuteTime": {
     "end_time": "2023-08-18T08:10:08.359778600Z",
     "start_time": "2023-08-18T08:10:08.339774900Z"
    }
   }
  },
  {
   "cell_type": "code",
   "execution_count": null,
   "outputs": [],
   "source": [
    "def dt_matrix(grad_list):\n",
    "    a = b = torch.stack(grad_list, dim=0)\n",
    "    a_norm = a / a.norm(dim=1)[:, None]\n",
    "    b_norm = b / b.norm(dim=1)[:, None]\n",
    "    res = torch.mm(a_norm, b_norm.transpose(0, 1))\n",
    "    return 1 - res\n",
    "\n",
    "def _Distance(tensor1, tensor2):\n",
    "    DownSum1 = 0.0\n",
    "    DownSum2 = 0.0\n",
    "    UpSum = 0.0\n",
    "    for i in range(tensor1.shape[0]):\n",
    "        UpSum += tensor1[i].item() * tensor2[i].item()\n",
    "\n",
    "        DownSum1 = tensor1.norm()\n",
    "        DownSum2 = tensor2.norm()\n",
    "    # DownSum1 = 0\n",
    "    # DownSum2 = 0\n",
    "    # for i in range(tensor1.shape[0]):\n",
    "    #     DownSum1 += tensor1[i].item() * tensor1[i].item()\n",
    "    # DownSum1 = DownSum1 ** 0.5\n",
    "    # for i in range(tensor2.shape[0]):\n",
    "    #     DownSum2 += tensor2[i].item() * tensor2[i].item()\n",
    "    # DownSum2 = DownSum2 ** 0.5\n",
    "\n",
    "    return abs(1 - UpSum / (DownSum1 * DownSum2))\n",
    "\n",
    "\n",
    "t1 = torch.tensor([1.0,2.0],dtype=torch.float32)\n",
    "t2 = torch.tensor([2.0,6.0],dtype=torch.float32)\n",
    "t3 = torch.tensor([3.0,1.0],dtype=torch.float32)\n",
    "\n",
    "\n",
    "import time\n",
    "time1 = time.time()\n",
    "dis = _Distance(t1,t2)\n",
    "time2 = time.time()\n",
    "print(time2 - time1)\n",
    "time1 = time.time()\n",
    "res = dt_matrix([t1,t2,t3])\n",
    "time2 = time.time()\n",
    "print(t2 - time1)\n"
   ],
   "metadata": {
    "collapsed": false,
    "pycharm": {
     "name": "#%%\n"
    }
   }
  },
  {
   "cell_type": "code",
   "execution_count": null,
   "outputs": [],
   "source": [
    "import torch\n",
    "import torch.nn as nn\n",
    "\n",
    "# 定义一个简单的模型类\n",
    "class SimpleModel(nn.Module):\n",
    "    def __init__(self):\n",
    "        super(SimpleModel, self).__init__()\n",
    "        self.fc = nn.Linear(10, 5)\n",
    "\n",
    "    def forward(self, x):\n",
    "        return self.fc(x)\n",
    "\n",
    "# 初始化全局模型\n",
    "global_model = SimpleModel()\n",
    "\n",
    "for name, param in global_model.named_parameters():\n",
    "    print(name, param)\n",
    "# 假设有3个局部模型\n",
    "local_models = [SimpleModel() for _ in range(3)]\n",
    "\n",
    "# 将局部模型参数求和\n",
    "for local_model in local_models:\n",
    "    for global_param, local_param in zip(global_model.parameters(), local_model.parameters()):\n",
    "        global_param.data += local_param.data\n",
    "\n",
    "# 参数平均化\n",
    "num_models = len(local_models)\n",
    "for global_param in global_model.parameters():\n",
    "    global_param.data /= num_models\n",
    "\n",
    "# 打印聚合后的模型参数\n",
    "print(\"Aggregated Model Parameters:\")\n",
    "\n",
    "for name, param in global_model.named_parameters():\n",
    "    print(name, param)\n"
   ],
   "metadata": {
    "collapsed": false,
    "pycharm": {
     "name": "#%%\n"
    }
   }
  },
  {
   "cell_type": "code",
   "execution_count": null,
   "outputs": [],
   "source": [
    "a"
   ],
   "metadata": {
    "collapsed": false,
    "pycharm": {
     "name": "#%%\n"
    }
   }
  },
  {
   "cell_type": "code",
   "execution_count": null,
   "outputs": [],
   "source": [],
   "metadata": {
    "collapsed": false,
    "pycharm": {
     "name": "#%%\n"
    }
   }
  },
  {
   "cell_type": "code",
   "execution_count": null,
   "outputs": [],
   "source": [
    "np.save(\"aa\", a)"
   ],
   "metadata": {
    "collapsed": false,
    "pycharm": {
     "name": "#%%\n"
    }
   }
  },
  {
   "cell_type": "code",
   "execution_count": null,
   "outputs": [],
   "source": [
    "np.load(\"aa.npy\", allow_pickle=True).tolist()"
   ],
   "metadata": {
    "collapsed": false,
    "pycharm": {
     "name": "#%%\n"
    }
   }
  }
 ],
 "metadata": {
  "kernelspec": {
   "display_name": "Python 3",
   "language": "python",
   "name": "python3"
  },
  "language_info": {
   "codemirror_mode": {
    "name": "ipython",
    "version": 2
   },
   "file_extension": ".py",
   "mimetype": "text/x-python",
   "name": "python",
   "nbconvert_exporter": "python",
   "pygments_lexer": "ipython2",
   "version": "2.7.6"
  }
 },
 "nbformat": 4,
 "nbformat_minor": 0
}
