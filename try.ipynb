{
 "cells": [
  {
   "cell_type": "code",
   "execution_count": 1,
   "metadata": {
    "collapsed": true,
    "pycharm": {
     "name": "#%%\n"
    },
    "ExecuteTime": {
     "end_time": "2023-08-13T12:49:10.348223400Z",
     "start_time": "2023-08-13T12:49:07.722780600Z"
    }
   },
   "outputs": [],
   "source": [
    "import numpy as np\n",
    "import torch\n",
    "import Model"
   ]
  },
  {
   "cell_type": "code",
   "execution_count": 4,
   "outputs": [
    {
     "name": "stdout",
     "output_type": "stream",
     "text": [
      "Total parameters: 470064\n",
      "Estimated model size: 1.79 MB\n"
     ]
    }
   ],
   "source": [
    "model = Model.init_model(\"mnist\")\n",
    "# 计算模型的参数数量\n",
    "total_params = sum(p.numel() for p in model.parameters())\n",
    "print(f\"Total parameters: {total_params}\")\n",
    "\n",
    "# 估算模型的数据大小（假设每个参数占用4个字节）\n",
    "total_size_bytes = total_params * 4  # 假设每个参数占用4个字节\n",
    "total_size_mb = total_size_bytes / (1024 * 1024)\n",
    "print(f\"Estimated model size: {total_size_mb:.2f} MB\")\n"
   ],
   "metadata": {
    "collapsed": false,
    "pycharm": {
     "name": "#%%\n"
    },
    "ExecuteTime": {
     "end_time": "2023-08-13T12:52:59.301094200Z",
     "start_time": "2023-08-13T12:52:59.270088200Z"
    }
   }
  },
  {
   "cell_type": "code",
   "execution_count": null,
   "outputs": [],
   "source": [
    "def dt_matrix(grad_list):\n",
    "    a = b = torch.stack(grad_list, dim=0)\n",
    "    a_norm = a / a.norm(dim=1)[:, None]\n",
    "    b_norm = b / b.norm(dim=1)[:, None]\n",
    "    res = torch.mm(a_norm, b_norm.transpose(0, 1))\n",
    "    return 1 - res\n",
    "\n",
    "def _Distance(tensor1, tensor2):\n",
    "    DownSum1 = 0.0\n",
    "    DownSum2 = 0.0\n",
    "    UpSum = 0.0\n",
    "    for i in range(tensor1.shape[0]):\n",
    "        UpSum += tensor1[i].item() * tensor2[i].item()\n",
    "\n",
    "        DownSum1 = tensor1.norm()\n",
    "        DownSum2 = tensor2.norm()\n",
    "    # DownSum1 = 0\n",
    "    # DownSum2 = 0\n",
    "    # for i in range(tensor1.shape[0]):\n",
    "    #     DownSum1 += tensor1[i].item() * tensor1[i].item()\n",
    "    # DownSum1 = DownSum1 ** 0.5\n",
    "    # for i in range(tensor2.shape[0]):\n",
    "    #     DownSum2 += tensor2[i].item() * tensor2[i].item()\n",
    "    # DownSum2 = DownSum2 ** 0.5\n",
    "\n",
    "    return abs(1 - UpSum / (DownSum1 * DownSum2))\n",
    "\n",
    "\n",
    "t1 = torch.tensor([1.0,2.0],dtype=torch.float32)\n",
    "t2 = torch.tensor([2.0,6.0],dtype=torch.float32)\n",
    "t3 = torch.tensor([3.0,1.0],dtype=torch.float32)\n",
    "\n",
    "\n",
    "import time\n",
    "time1 = time.time()\n",
    "dis = _Distance(t1,t2)\n",
    "time2 = time.time()\n",
    "print(time2 - time1)\n",
    "time1 = time.time()\n",
    "res = dt_matrix([t1,t2,t3])\n",
    "time2 = time.time()\n",
    "print(t2 - time1)\n"
   ],
   "metadata": {
    "collapsed": false,
    "pycharm": {
     "name": "#%%\n"
    }
   }
  },
  {
   "cell_type": "code",
   "execution_count": null,
   "outputs": [],
   "source": [
    "import torch\n",
    "import torch.nn as nn\n",
    "\n",
    "# 定义一个简单的模型类\n",
    "class SimpleModel(nn.Module):\n",
    "    def __init__(self):\n",
    "        super(SimpleModel, self).__init__()\n",
    "        self.fc = nn.Linear(10, 5)\n",
    "\n",
    "    def forward(self, x):\n",
    "        return self.fc(x)\n",
    "\n",
    "# 初始化全局模型\n",
    "global_model = SimpleModel()\n",
    "\n",
    "for name, param in global_model.named_parameters():\n",
    "    print(name, param)\n",
    "# 假设有3个局部模型\n",
    "local_models = [SimpleModel() for _ in range(3)]\n",
    "\n",
    "# 将局部模型参数求和\n",
    "for local_model in local_models:\n",
    "    for global_param, local_param in zip(global_model.parameters(), local_model.parameters()):\n",
    "        global_param.data += local_param.data\n",
    "\n",
    "# 参数平均化\n",
    "num_models = len(local_models)\n",
    "for global_param in global_model.parameters():\n",
    "    global_param.data /= num_models\n",
    "\n",
    "# 打印聚合后的模型参数\n",
    "print(\"Aggregated Model Parameters:\")\n",
    "\n",
    "for name, param in global_model.named_parameters():\n",
    "    print(name, param)\n"
   ],
   "metadata": {
    "collapsed": false,
    "pycharm": {
     "name": "#%%\n"
    }
   }
  },
  {
   "cell_type": "code",
   "execution_count": null,
   "outputs": [],
   "source": [
    "a"
   ],
   "metadata": {
    "collapsed": false,
    "pycharm": {
     "name": "#%%\n"
    }
   }
  },
  {
   "cell_type": "code",
   "execution_count": null,
   "outputs": [],
   "source": [],
   "metadata": {
    "collapsed": false,
    "pycharm": {
     "name": "#%%\n"
    }
   }
  },
  {
   "cell_type": "code",
   "execution_count": null,
   "outputs": [],
   "source": [
    "np.save(\"aa\", a)"
   ],
   "metadata": {
    "collapsed": false,
    "pycharm": {
     "name": "#%%\n"
    }
   }
  },
  {
   "cell_type": "code",
   "execution_count": null,
   "outputs": [],
   "source": [
    "np.load(\"aa.npy\", allow_pickle=True).tolist()"
   ],
   "metadata": {
    "collapsed": false,
    "pycharm": {
     "name": "#%%\n"
    }
   }
  }
 ],
 "metadata": {
  "kernelspec": {
   "display_name": "Python 3",
   "language": "python",
   "name": "python3"
  },
  "language_info": {
   "codemirror_mode": {
    "name": "ipython",
    "version": 2
   },
   "file_extension": ".py",
   "mimetype": "text/x-python",
   "name": "python",
   "nbconvert_exporter": "python",
   "pygments_lexer": "ipython2",
   "version": "2.7.6"
  }
 },
 "nbformat": 4,
 "nbformat_minor": 0
}
